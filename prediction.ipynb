{
  "nbformat": 4,
  "nbformat_minor": 0,
  "metadata": {
    "colab": {
      "name": "Untitled4.ipynb",
      "provenance": []
    },
    "kernelspec": {
      "name": "python3",
      "display_name": "Python 3"
    }
  },
  "cells": [
    {
      "cell_type": "code",
      "metadata": {
        "id": "zJZ0a9q-MqJk",
        "colab_type": "code",
        "colab": {
          "base_uri": "https://localhost:8080/",
          "height": 87
        },
        "outputId": "c86d41c9-17da-4e4d-dc28-c7bd20b6b074"
      },
      "source": [
        "import math \n",
        "import pandas_datareader as web\n",
        "import numpy as np\n",
        "import pandas as pd\n",
        "from sklearn.preprocessing import MinMaxScaler\n",
        "from keras.models import Sequential\n",
        "from keras.layers import Dense , LSTM\n",
        "import matplotlib.pyplot as plt"
      ],
      "execution_count": 1,
      "outputs": [
        {
          "output_type": "stream",
          "text": [
            "/usr/local/lib/python3.6/dist-packages/pandas_datareader/compat/__init__.py:7: FutureWarning: pandas.util.testing is deprecated. Use the functions in the public API at pandas.testing instead.\n",
            "  from pandas.util.testing import assert_frame_equal\n",
            "Using TensorFlow backend.\n"
          ],
          "name": "stderr"
        }
      ]
    },
    {
      "cell_type": "code",
      "metadata": {
        "id": "DEN3XhSMNO6S",
        "colab_type": "code",
        "colab": {}
      },
      "source": [
        "df = web.DataReader(\"AAPL\" , data_source='yahoo' , start='2012-01-01' , end='2017-12-17')"
      ],
      "execution_count": 50,
      "outputs": []
    },
    {
      "cell_type": "code",
      "metadata": {
        "id": "5VNWMuk6OAdB",
        "colab_type": "code",
        "colab": {
          "base_uri": "https://localhost:8080/",
          "height": 431
        },
        "outputId": "c3c67ce7-de6e-42ab-869f-52aa432c37ea"
      },
      "source": [
        "df\n"
      ],
      "execution_count": 51,
      "outputs": [
        {
          "output_type": "execute_result",
          "data": {
            "text/html": [
              "<div>\n",
              "<style scoped>\n",
              "    .dataframe tbody tr th:only-of-type {\n",
              "        vertical-align: middle;\n",
              "    }\n",
              "\n",
              "    .dataframe tbody tr th {\n",
              "        vertical-align: top;\n",
              "    }\n",
              "\n",
              "    .dataframe thead th {\n",
              "        text-align: right;\n",
              "    }\n",
              "</style>\n",
              "<table border=\"1\" class=\"dataframe\">\n",
              "  <thead>\n",
              "    <tr style=\"text-align: right;\">\n",
              "      <th></th>\n",
              "      <th>High</th>\n",
              "      <th>Low</th>\n",
              "      <th>Open</th>\n",
              "      <th>Close</th>\n",
              "      <th>Volume</th>\n",
              "      <th>Adj Close</th>\n",
              "    </tr>\n",
              "    <tr>\n",
              "      <th>Date</th>\n",
              "      <th></th>\n",
              "      <th></th>\n",
              "      <th></th>\n",
              "      <th></th>\n",
              "      <th></th>\n",
              "      <th></th>\n",
              "    </tr>\n",
              "  </thead>\n",
              "  <tbody>\n",
              "    <tr>\n",
              "      <th>2012-01-03</th>\n",
              "      <td>58.928570</td>\n",
              "      <td>58.428570</td>\n",
              "      <td>58.485714</td>\n",
              "      <td>58.747143</td>\n",
              "      <td>75555200.0</td>\n",
              "      <td>50.857235</td>\n",
              "    </tr>\n",
              "    <tr>\n",
              "      <th>2012-01-04</th>\n",
              "      <td>59.240002</td>\n",
              "      <td>58.468571</td>\n",
              "      <td>58.571430</td>\n",
              "      <td>59.062859</td>\n",
              "      <td>65005500.0</td>\n",
              "      <td>51.130558</td>\n",
              "    </tr>\n",
              "    <tr>\n",
              "      <th>2012-01-05</th>\n",
              "      <td>59.792858</td>\n",
              "      <td>58.952858</td>\n",
              "      <td>59.278572</td>\n",
              "      <td>59.718571</td>\n",
              "      <td>67817400.0</td>\n",
              "      <td>51.698215</td>\n",
              "    </tr>\n",
              "    <tr>\n",
              "      <th>2012-01-06</th>\n",
              "      <td>60.392857</td>\n",
              "      <td>59.888573</td>\n",
              "      <td>59.967144</td>\n",
              "      <td>60.342857</td>\n",
              "      <td>79573200.0</td>\n",
              "      <td>52.238651</td>\n",
              "    </tr>\n",
              "    <tr>\n",
              "      <th>2012-01-09</th>\n",
              "      <td>61.107143</td>\n",
              "      <td>60.192856</td>\n",
              "      <td>60.785713</td>\n",
              "      <td>60.247143</td>\n",
              "      <td>98506100.0</td>\n",
              "      <td>52.155792</td>\n",
              "    </tr>\n",
              "    <tr>\n",
              "      <th>...</th>\n",
              "      <td>...</td>\n",
              "      <td>...</td>\n",
              "      <td>...</td>\n",
              "      <td>...</td>\n",
              "      <td>...</td>\n",
              "      <td>...</td>\n",
              "    </tr>\n",
              "    <tr>\n",
              "      <th>2017-12-11</th>\n",
              "      <td>172.889999</td>\n",
              "      <td>168.789993</td>\n",
              "      <td>169.199997</td>\n",
              "      <td>172.669998</td>\n",
              "      <td>35273800.0</td>\n",
              "      <td>166.749649</td>\n",
              "    </tr>\n",
              "    <tr>\n",
              "      <th>2017-12-12</th>\n",
              "      <td>172.389999</td>\n",
              "      <td>171.460007</td>\n",
              "      <td>172.149994</td>\n",
              "      <td>171.699997</td>\n",
              "      <td>19409200.0</td>\n",
              "      <td>165.812897</td>\n",
              "    </tr>\n",
              "    <tr>\n",
              "      <th>2017-12-13</th>\n",
              "      <td>173.539993</td>\n",
              "      <td>172.000000</td>\n",
              "      <td>172.500000</td>\n",
              "      <td>172.270004</td>\n",
              "      <td>23818400.0</td>\n",
              "      <td>166.363358</td>\n",
              "    </tr>\n",
              "    <tr>\n",
              "      <th>2017-12-14</th>\n",
              "      <td>173.130005</td>\n",
              "      <td>171.649994</td>\n",
              "      <td>172.399994</td>\n",
              "      <td>172.220001</td>\n",
              "      <td>20476500.0</td>\n",
              "      <td>166.315079</td>\n",
              "    </tr>\n",
              "    <tr>\n",
              "      <th>2017-12-15</th>\n",
              "      <td>174.169998</td>\n",
              "      <td>172.460007</td>\n",
              "      <td>173.630005</td>\n",
              "      <td>173.970001</td>\n",
              "      <td>40169300.0</td>\n",
              "      <td>168.005066</td>\n",
              "    </tr>\n",
              "  </tbody>\n",
              "</table>\n",
              "<p>1500 rows × 6 columns</p>\n",
              "</div>"
            ],
            "text/plain": [
              "                  High         Low  ...      Volume   Adj Close\n",
              "Date                                ...                        \n",
              "2012-01-03   58.928570   58.428570  ...  75555200.0   50.857235\n",
              "2012-01-04   59.240002   58.468571  ...  65005500.0   51.130558\n",
              "2012-01-05   59.792858   58.952858  ...  67817400.0   51.698215\n",
              "2012-01-06   60.392857   59.888573  ...  79573200.0   52.238651\n",
              "2012-01-09   61.107143   60.192856  ...  98506100.0   52.155792\n",
              "...                ...         ...  ...         ...         ...\n",
              "2017-12-11  172.889999  168.789993  ...  35273800.0  166.749649\n",
              "2017-12-12  172.389999  171.460007  ...  19409200.0  165.812897\n",
              "2017-12-13  173.539993  172.000000  ...  23818400.0  166.363358\n",
              "2017-12-14  173.130005  171.649994  ...  20476500.0  166.315079\n",
              "2017-12-15  174.169998  172.460007  ...  40169300.0  168.005066\n",
              "\n",
              "[1500 rows x 6 columns]"
            ]
          },
          "metadata": {
            "tags": []
          },
          "execution_count": 51
        }
      ]
    },
    {
      "cell_type": "code",
      "metadata": {
        "id": "3CQWQx_EOQ8T",
        "colab_type": "code",
        "colab": {
          "base_uri": "https://localhost:8080/",
          "height": 34
        },
        "outputId": "30c48b1f-f9b5-417e-ff4c-62800e337587"
      },
      "source": [
        "df.shape"
      ],
      "execution_count": 52,
      "outputs": [
        {
          "output_type": "execute_result",
          "data": {
            "text/plain": [
              "(1500, 6)"
            ]
          },
          "metadata": {
            "tags": []
          },
          "execution_count": 52
        }
      ]
    },
    {
      "cell_type": "code",
      "metadata": {
        "id": "lCgYjI1xOs9U",
        "colab_type": "code",
        "colab": {
          "base_uri": "https://localhost:8080/",
          "height": 289
        },
        "outputId": "9472e85a-8ece-40c9-ef7f-df1d46407e00"
      },
      "source": [
        "df.head"
      ],
      "execution_count": 53,
      "outputs": [
        {
          "output_type": "execute_result",
          "data": {
            "text/plain": [
              "<bound method NDFrame.head of                   High         Low  ...      Volume   Adj Close\n",
              "Date                                ...                        \n",
              "2012-01-03   58.928570   58.428570  ...  75555200.0   50.857235\n",
              "2012-01-04   59.240002   58.468571  ...  65005500.0   51.130558\n",
              "2012-01-05   59.792858   58.952858  ...  67817400.0   51.698215\n",
              "2012-01-06   60.392857   59.888573  ...  79573200.0   52.238651\n",
              "2012-01-09   61.107143   60.192856  ...  98506100.0   52.155792\n",
              "...                ...         ...  ...         ...         ...\n",
              "2017-12-11  172.889999  168.789993  ...  35273800.0  166.749649\n",
              "2017-12-12  172.389999  171.460007  ...  19409200.0  165.812897\n",
              "2017-12-13  173.539993  172.000000  ...  23818400.0  166.363358\n",
              "2017-12-14  173.130005  171.649994  ...  20476500.0  166.315079\n",
              "2017-12-15  174.169998  172.460007  ...  40169300.0  168.005066\n",
              "\n",
              "[1500 rows x 6 columns]>"
            ]
          },
          "metadata": {
            "tags": []
          },
          "execution_count": 53
        }
      ]
    },
    {
      "cell_type": "code",
      "metadata": {
        "id": "LfxwOEEwOvIo",
        "colab_type": "code",
        "colab": {
          "base_uri": "https://localhost:8080/",
          "height": 358
        },
        "outputId": "227821eb-a3a7-43ba-a3a5-ed8f98af4b34"
      },
      "source": [
        "plt.figure(figsize=(16,8))\n",
        "plt.title('close price history')\n",
        "plt.plot(df['Close'])\n",
        "plt.xlabel('Date',fontsize=18)\n",
        "plt.ylabel('close price in USD ($)' , fontsize=18)\n",
        "plt.show()"
      ],
      "execution_count": 54,
      "outputs": [
        {
          "output_type": "display_data",
          "data": {
            "image/png": "[encoded data removed]",
            "text/plain": [
              "<Figure size 1152x576 with 1 Axes>"
            ]
          },
          "metadata": {
            "tags": [],
            "needs_background": "light"
          }
        }
      ]
    },
    {
      "cell_type": "code",
      "metadata": {
        "id": "LnYIegvfPiT5",
        "colab_type": "code",
        "colab": {}
      },
      "source": [
        "data = df.filter(['Close'])\n",
        "dataset = data.values\n",
        "training_data_len = math.ceil(len(dataset)*.8)"
      ],
      "execution_count": 55,
      "outputs": []
    },
    {
      "cell_type": "code",
      "metadata": {
        "id": "oJ_lNXa7Q_DY",
        "colab_type": "code",
        "colab": {
          "base_uri": "https://localhost:8080/",
          "height": 134
        },
        "outputId": "0433a5fb-b19e-46b2-f668-3f9328070d4f"
      },
      "source": [
        "scaler = MinMaxScaler(feature_range=(0,1))\n",
        "scaled_data = scaler.fit_transform(dataset)\n",
        "\n",
        "scaled_data"
      ],
      "execution_count": 59,
      "outputs": [
        {
          "output_type": "execute_result",
          "data": {
            "text/plain": [
              "array([[0.02455078],\n",
              "       [0.02717192],\n",
              "       [0.03261577],\n",
              "       ...,\n",
              "       [0.96704026],\n",
              "       [0.96662512],\n",
              "       [0.98115397]])"
            ]
          },
          "metadata": {
            "tags": []
          },
          "execution_count": 59
        }
      ]
    },
    {
      "cell_type": "code",
      "metadata": {
        "id": "pNDg-bxESHrS",
        "colab_type": "code",
        "colab": {}
      },
      "source": [
        "train_data = scaled_data[0:training_data_len , :]"
      ],
      "execution_count": 57,
      "outputs": []
    },
    {
      "cell_type": "code",
      "metadata": {
        "id": "W8UU2oxhSx5a",
        "colab_type": "code",
        "colab": {
          "base_uri": "https://localhost:8080/",
          "height": 252
        },
        "outputId": "238695e7-1383-4cf4-b723-8a6a2884ccc8"
      },
      "source": [
        "x_train = []\n",
        "y_train = []\n",
        "for i in range (60,len(train_data)):\n",
        "  x_train.append(train_data[i-60:i,0])\n",
        "  y_train.append(train_data[i,0])\n",
        "  if i<=60:\n",
        "    print(x_train)\n",
        "    print(y_train)\n",
        "    print()"
      ],
      "execution_count": 58,
      "outputs": [
        {
          "output_type": "stream",
          "text": [
            "[array([0.02455078, 0.02717192, 0.03261577, 0.03779872, 0.03700408,\n",
            "       0.03879498, 0.03797662, 0.03660082, 0.03472692, 0.04052659,\n",
            "       0.04575698, 0.04414398, 0.03530807, 0.04374072, 0.03543852,\n",
            "       0.06657177, 0.06416412, 0.06730712, 0.07410305, 0.07821855,\n",
            "       0.07787461, 0.07660558, 0.08201387, 0.0871019 , 0.09286604,\n",
            "       0.10217637, 0.12173397, 0.12203047, 0.13291824, 0.14105436,\n",
            "       0.12707106, 0.13245566, 0.13234893, 0.14744709, 0.14530034,\n",
            "       0.14927352, 0.15641341, 0.16038665, 0.17183182, 0.18016962,\n",
            "       0.1825772 , 0.18341932, 0.16916327, 0.16572374, 0.16623376,\n",
            "       0.17963585, 0.18340747, 0.19150799, 0.21060308, 0.23607898,\n",
            "       0.23131114, 0.23132298, 0.24974203, 0.2555061 , 0.25140244,\n",
            "       0.24765463, 0.24375259, 0.25671585, 0.26561111, 0.26933523])]\n",
            "[0.2601316233609075]\n",
            "\n"
          ],
          "name": "stdout"
        }
      ]
    },
    {
      "cell_type": "code",
      "metadata": {
        "id": "-PEcVOhTVAFW",
        "colab_type": "code",
        "colab": {}
      },
      "source": [
        "x_train , y_train = np.array(x_train) , np.array(y_train)"
      ],
      "execution_count": 60,
      "outputs": []
    },
    {
      "cell_type": "code",
      "metadata": {
        "id": "2Nvl4_IKbIqh",
        "colab_type": "code",
        "colab": {}
      },
      "source": [
        "x_train = np.reshape(x_train,(x_train.shape[0],x_train.shape[1],1))"
      ],
      "execution_count": 61,
      "outputs": []
    },
    {
      "cell_type": "code",
      "metadata": {
        "id": "z28tW3Flb6Me",
        "colab_type": "code",
        "colab": {}
      },
      "source": [
        "model = Sequential()\n",
        "model.add(LSTM(50, return_sequences=True , input_shape=(x_train.shape[1],1)))\n",
        "model.add(LSTM(50,return_sequences=False))\n",
        "model.add(Dense(25))\n",
        "model.add(Dense(1))"
      ],
      "execution_count": 62,
      "outputs": []
    },
    {
      "cell_type": "code",
      "metadata": {
        "id": "sqL9zbW4eOGy",
        "colab_type": "code",
        "colab": {}
      },
      "source": [
        "model.compile(optimizer='adam',loss='mean_squared_error')"
      ],
      "execution_count": 63,
      "outputs": []
    },
    {
      "cell_type": "code",
      "metadata": {
        "id": "-Wukzqvditge",
        "colab_type": "code",
        "colab": {
          "base_uri": "https://localhost:8080/",
          "height": 67
        },
        "outputId": "3d97178a-7b55-4ec9-e6e9-1b8b92da9203"
      },
      "source": [
        " model.fit(x_train,y_train , batch_size=1,epochs=1)"
      ],
      "execution_count": 64,
      "outputs": [
        {
          "output_type": "stream",
          "text": [
            "Epoch 1/1\n",
            "1140/1140 [==============================] - 47s 41ms/step - loss: 0.0020\n"
          ],
          "name": "stdout"
        },
        {
          "output_type": "execute_result",
          "data": {
            "text/plain": [
              "<keras.callbacks.callbacks.History at 0x7fcb06c742e8>"
            ]
          },
          "metadata": {
            "tags": []
          },
          "execution_count": 64
        }
      ]
    },
    {
      "cell_type": "code",
      "metadata": {
        "id": "YLK6zIMbjBKw",
        "colab_type": "code",
        "colab": {}
      },
      "source": [
        "test_data = scaled_data[training_data_len-60:,:]\n",
        "x_test = []\n",
        "y_test = dataset[training_data_len:,:]\n",
        "for i in range(60,len(test_data)):\n",
        "  x_test.append(test_data[i-60:i,0])\n",
        "  \n"
      ],
      "execution_count": 65,
      "outputs": []
    },
    {
      "cell_type": "code",
      "metadata": {
        "id": "PKxPhp7zkf1c",
        "colab_type": "code",
        "colab": {}
      },
      "source": [
        "x_test = np.array(x_test)"
      ],
      "execution_count": 66,
      "outputs": []
    },
    {
      "cell_type": "code",
      "metadata": {
        "id": "9DwiOZ60kkDx",
        "colab_type": "code",
        "colab": {}
      },
      "source": [
        "x_test = np.reshape(x_test,(x_test.shape[0], x_test.shape[1],1))"
      ],
      "execution_count": 67,
      "outputs": []
    },
    {
      "cell_type": "code",
      "metadata": {
        "id": "MTo6_S8Lk0JC",
        "colab_type": "code",
        "colab": {}
      },
      "source": [
        "predictions = model.predict(x_test)\n",
        "predictions = scaler.inverse_transform(predictions)"
      ],
      "execution_count": 68,
      "outputs": []
    },
    {
      "cell_type": "code",
      "metadata": {
        "id": "F4F1RvISmlx9",
        "colab_type": "code",
        "colab": {
          "base_uri": "https://localhost:8080/",
          "height": 34
        },
        "outputId": "d746d1bd-bed6-4062-d2f0-c42afcad1775"
      },
      "source": [
        "rmse = np.sqrt(np.mean(predictions - y_test)**2)\n",
        "rmse"
      ],
      "execution_count": 69,
      "outputs": [
        {
          "output_type": "execute_result",
          "data": {
            "text/plain": [
              "0.13566085815429688"
            ]
          },
          "metadata": {
            "tags": []
          },
          "execution_count": 69
        }
      ]
    },
    {
      "cell_type": "code",
      "metadata": {
        "id": "Ux90eD-um6Cg",
        "colab_type": "code",
        "colab": {
          "base_uri": "https://localhost:8080/",
          "height": 138
        },
        "outputId": "7db4d1ca-99b8-4e8c-9e73-6b32543dc308"
      },
      "source": [
        "train = data[:training_data_len]\n",
        "valid = data[training_data_len:]\n",
        "valid['predictions'] = predictions"
      ],
      "execution_count": 70,
      "outputs": [
        {
          "output_type": "stream",
          "text": [
            "/usr/local/lib/python3.6/dist-packages/ipykernel_launcher.py:3: SettingWithCopyWarning: \n",
            "A value is trying to be set on a copy of a slice from a DataFrame.\n",
            "Try using .loc[row_indexer,col_indexer] = value instead\n",
            "\n",
            "See the caveats in the documentation: https://pandas.pydata.org/pandas-docs/stable/user_guide/indexing.html#returning-a-view-versus-a-copy\n",
            "  This is separate from the ipykernel package so we can avoid doing imports until\n"
          ],
          "name": "stderr"
        }
      ]
    },
    {
      "cell_type": "code",
      "metadata": {
        "id": "UiLPUtY4nZ9f",
        "colab_type": "code",
        "colab": {
          "base_uri": "https://localhost:8080/",
          "height": 374
        },
        "outputId": "09f3ff37-f55b-4345-ea50-b336bf6dd79e"
      },
      "source": [
        "plt.figure(figsize=(16,8))\n",
        "plt.title('model')\n",
        "plt.xlabel('date',fontsize=18)\n",
        "plt.ylabel('close price',fontsize=18)\n",
        "plt.plot(train['Close'])\n",
        "plt.plot(valid[['Close','predictions']])\n",
        "plt.legend(['train','valid','predictions'],loc='lower right')"
      ],
      "execution_count": 71,
      "outputs": [
        {
          "output_type": "execute_result",
          "data": {
            "text/plain": [
              "<matplotlib.legend.Legend at 0x7fcb0690feb8>"
            ]
          },
          "metadata": {
            "tags": []
          },
          "execution_count": 71
        },
        {
          "output_type": "display_data",
          "data": {
            "image/png": "[encoded data removed]",
            "text/plain": [
              "<Figure size 1152x576 with 1 Axes>"
            ]
          },
          "metadata": {
            "tags": [],
            "needs_background": "light"
          }
        }
      ]
    },
    {
      "cell_type": "code",
      "metadata": {
        "id": "G3jsPaHVn53w",
        "colab_type": "code",
        "colab": {
          "base_uri": "https://localhost:8080/",
          "height": 431
        },
        "outputId": "02c01ce2-9fce-4a1d-d5b1-cf922dc9ef99"
      },
      "source": [
        "valid"
      ],
      "execution_count": 72,
      "outputs": [
        {
          "output_type": "execute_result",
          "data": {
            "text/html": [
              "<div>\n",
              "<style scoped>\n",
              "    .dataframe tbody tr th:only-of-type {\n",
              "        vertical-align: middle;\n",
              "    }\n",
              "\n",
              "    .dataframe tbody tr th {\n",
              "        vertical-align: top;\n",
              "    }\n",
              "\n",
              "    .dataframe thead th {\n",
              "        text-align: right;\n",
              "    }\n",
              "</style>\n",
              "<table border=\"1\" class=\"dataframe\">\n",
              "  <thead>\n",
              "    <tr style=\"text-align: right;\">\n",
              "      <th></th>\n",
              "      <th>Close</th>\n",
              "      <th>predictions</th>\n",
              "    </tr>\n",
              "    <tr>\n",
              "      <th>Date</th>\n",
              "      <th></th>\n",
              "      <th></th>\n",
              "    </tr>\n",
              "  </thead>\n",
              "  <tbody>\n",
              "    <tr>\n",
              "      <th>2016-10-10</th>\n",
              "      <td>116.050003</td>\n",
              "      <td>113.653687</td>\n",
              "    </tr>\n",
              "    <tr>\n",
              "      <th>2016-10-11</th>\n",
              "      <td>116.300003</td>\n",
              "      <td>114.011116</td>\n",
              "    </tr>\n",
              "    <tr>\n",
              "      <th>2016-10-12</th>\n",
              "      <td>117.339996</td>\n",
              "      <td>114.485634</td>\n",
              "    </tr>\n",
              "    <tr>\n",
              "      <th>2016-10-13</th>\n",
              "      <td>116.980003</td>\n",
              "      <td>115.091026</td>\n",
              "    </tr>\n",
              "    <tr>\n",
              "      <th>2016-10-14</th>\n",
              "      <td>117.629997</td>\n",
              "      <td>115.666649</td>\n",
              "    </tr>\n",
              "    <tr>\n",
              "      <th>...</th>\n",
              "      <td>...</td>\n",
              "      <td>...</td>\n",
              "    </tr>\n",
              "    <tr>\n",
              "      <th>2017-12-11</th>\n",
              "      <td>172.669998</td>\n",
              "      <td>170.717300</td>\n",
              "    </tr>\n",
              "    <tr>\n",
              "      <th>2017-12-12</th>\n",
              "      <td>171.699997</td>\n",
              "      <td>170.840363</td>\n",
              "    </tr>\n",
              "    <tr>\n",
              "      <th>2017-12-13</th>\n",
              "      <td>172.270004</td>\n",
              "      <td>171.050140</td>\n",
              "    </tr>\n",
              "    <tr>\n",
              "      <th>2017-12-14</th>\n",
              "      <td>172.220001</td>\n",
              "      <td>171.372284</td>\n",
              "    </tr>\n",
              "    <tr>\n",
              "      <th>2017-12-15</th>\n",
              "      <td>173.970001</td>\n",
              "      <td>171.709946</td>\n",
              "    </tr>\n",
              "  </tbody>\n",
              "</table>\n",
              "<p>300 rows × 2 columns</p>\n",
              "</div>"
            ],
            "text/plain": [
              "                 Close  predictions\n",
              "Date                               \n",
              "2016-10-10  116.050003   113.653687\n",
              "2016-10-11  116.300003   114.011116\n",
              "2016-10-12  117.339996   114.485634\n",
              "2016-10-13  116.980003   115.091026\n",
              "2016-10-14  117.629997   115.666649\n",
              "...                ...          ...\n",
              "2017-12-11  172.669998   170.717300\n",
              "2017-12-12  171.699997   170.840363\n",
              "2017-12-13  172.270004   171.050140\n",
              "2017-12-14  172.220001   171.372284\n",
              "2017-12-15  173.970001   171.709946\n",
              "\n",
              "[300 rows x 2 columns]"
            ]
          },
          "metadata": {
            "tags": []
          },
          "execution_count": 72
        }
      ]
    }
  ]
}